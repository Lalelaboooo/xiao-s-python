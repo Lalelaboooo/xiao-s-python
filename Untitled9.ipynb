{
 "cells": [
  {
   "cell_type": "code",
   "execution_count": 1,
   "metadata": {},
   "outputs": [
    {
     "ename": "SyntaxError",
     "evalue": "invalid syntax (<ipython-input-1-278a25273e4c>, line 1)",
     "output_type": "error",
     "traceback": [
      "\u001b[0;36m  File \u001b[0;32m\"<ipython-input-1-278a25273e4c>\"\u001b[0;36m, line \u001b[0;32m1\u001b[0m\n\u001b[0;31m    S0 100.\u001b[0m\n\u001b[0m          ^\u001b[0m\n\u001b[0;31mSyntaxError\u001b[0m\u001b[0;31m:\u001b[0m invalid syntax\n"
     ]
    }
   ],
   "source": [
    "S0 100.\n",
    "\n",
    "r = 0.05 sigma 0.2 T = 1.\n",
    "\n",
    "=\n",
    "\n",
    "= =\n",
    "\n",
    "1 100000 ST S0 * np.exp((r - 0.5 * sigma 会* 2) * T + sigma * np.sqrt(T) • npr.standard_normal(I))"
   ]
  },
  {
   "cell_type": "code",
   "execution_count": 2,
   "metadata": {},
   "outputs": [],
   "source": [
    "S0 = 100"
   ]
  },
  {
   "cell_type": "code",
   "execution_count": 3,
   "metadata": {},
   "outputs": [],
   "source": [
    "r = 0.05"
   ]
  },
  {
   "cell_type": "code",
   "execution_count": 4,
   "metadata": {},
   "outputs": [],
   "source": [
    "sigma = 0.2"
   ]
  },
  {
   "cell_type": "code",
   "execution_count": 5,
   "metadata": {},
   "outputs": [],
   "source": [
    "T = 1.\n"
   ]
  },
  {
   "cell_type": "code",
   "execution_count": 6,
   "metadata": {},
   "outputs": [],
   "source": [
    "I = 100000"
   ]
  },
  {
   "cell_type": "code",
   "execution_count": 7,
   "metadata": {},
   "outputs": [],
   "source": [
    "import numpy as np\n"
   ]
  },
  {
   "cell_type": "code",
   "execution_count": 8,
   "metadata": {},
   "outputs": [
    {
     "ename": "NameError",
     "evalue": "name 'npr' is not defined",
     "output_type": "error",
     "traceback": [
      "\u001b[0;31m---------------------------------------------------------------------------\u001b[0m",
      "\u001b[0;31mNameError\u001b[0m                                 Traceback (most recent call last)",
      "\u001b[0;32m<ipython-input-8-99105fbd20c5>\u001b[0m in \u001b[0;36m<module>\u001b[0;34m()\u001b[0m\n\u001b[0;32m----> 1\u001b[0;31m \u001b[0mST\u001b[0m \u001b[0;34m=\u001b[0m \u001b[0mS0\u001b[0m \u001b[0;34m*\u001b[0m\u001b[0mnp\u001b[0m\u001b[0;34m.\u001b[0m\u001b[0mexp\u001b[0m\u001b[0;34m(\u001b[0m\u001b[0;34m(\u001b[0m\u001b[0mr\u001b[0m \u001b[0;34m-\u001b[0m \u001b[0;36m0.5\u001b[0m \u001b[0;34m*\u001b[0m\u001b[0msigma\u001b[0m \u001b[0;34m**\u001b[0m \u001b[0;36m2\u001b[0m\u001b[0;34m)\u001b[0m \u001b[0;34m*\u001b[0m \u001b[0mT\u001b[0m \u001b[0;34m+\u001b[0m \u001b[0msigma\u001b[0m \u001b[0;34m*\u001b[0m \u001b[0mnp\u001b[0m\u001b[0;34m.\u001b[0m\u001b[0msqrt\u001b[0m\u001b[0;34m(\u001b[0m\u001b[0mT\u001b[0m\u001b[0;34m)\u001b[0m \u001b[0;34m*\u001b[0m \u001b[0mnpr\u001b[0m\u001b[0;34m.\u001b[0m\u001b[0mstandard_normal\u001b[0m\u001b[0;34m(\u001b[0m\u001b[0mI\u001b[0m\u001b[0;34m)\u001b[0m\u001b[0;34m)\u001b[0m\u001b[0;34m\u001b[0m\u001b[0m\n\u001b[0m",
      "\u001b[0;31mNameError\u001b[0m: name 'npr' is not defined"
     ]
    }
   ],
   "source": [
    "ST = S0 *np.exp((r - 0.5 *sigma ** 2) * T + sigma * np.sqrt(T) * npr.standard_normal(I))"
   ]
  },
  {
   "cell_type": "code",
   "execution_count": 9,
   "metadata": {},
   "outputs": [],
   "source": [
    "import numpy as np"
   ]
  },
  {
   "cell_type": "code",
   "execution_count": 10,
   "metadata": {},
   "outputs": [],
   "source": [
    "import numpy.random as npr"
   ]
  },
  {
   "cell_type": "code",
   "execution_count": 11,
   "metadata": {},
   "outputs": [],
   "source": [
    "import matplotlib.pyplot as plt"
   ]
  },
  {
   "cell_type": "code",
   "execution_count": 12,
   "metadata": {},
   "outputs": [],
   "source": [
    "%matplotlib inline"
   ]
  },
  {
   "cell_type": "code",
   "execution_count": 13,
   "metadata": {},
   "outputs": [
    {
     "data": {
      "text/plain": [
       "array([0.25879649, 0.98208814, 0.12060052, 0.44209522, 0.77486659,\n",
       "       0.26163485, 0.77974455, 0.82598401, 0.79979412, 0.91752508])"
      ]
     },
     "execution_count": 13,
     "metadata": {},
     "output_type": "execute_result"
    }
   ],
   "source": [
    "npr.rand(10)"
   ]
  },
  {
   "cell_type": "code",
   "execution_count": 14,
   "metadata": {},
   "outputs": [
    {
     "data": {
      "text/plain": [
       "array([[0.92300408, 0.51775602, 0.52586835, 0.85090666, 0.61944568],\n",
       "       [0.42225298, 0.43492294, 0.68111712, 0.5526079 , 0.42973517],\n",
       "       [0.85685093, 0.50835174, 0.14014385, 0.67513904, 0.23786751],\n",
       "       [0.22896477, 0.26488116, 0.9516155 , 0.09035467, 0.58395034],\n",
       "       [0.38372491, 0.80376895, 0.92968187, 0.31783638, 0.77892214]])"
      ]
     },
     "execution_count": 14,
     "metadata": {},
     "output_type": "execute_result"
    }
   ],
   "source": [
    "npr.rand(5,5)"
   ]
  },
  {
   "cell_type": "code",
   "execution_count": 15,
   "metadata": {},
   "outputs": [],
   "source": [
    "a = 10 "
   ]
  },
  {
   "cell_type": "code",
   "execution_count": 16,
   "metadata": {},
   "outputs": [],
   "source": [
    "b = 5\n"
   ]
  },
  {
   "cell_type": "code",
   "execution_count": 17,
   "metadata": {},
   "outputs": [
    {
     "data": {
      "text/plain": [
       "array([5.57391939, 9.39335811, 9.21203065, 7.30772849, 7.7159754 ,\n",
       "       9.0158687 , 9.11814273, 8.54191108, 7.44483755, 7.54678717])"
      ]
     },
     "execution_count": 17,
     "metadata": {},
     "output_type": "execute_result"
    }
   ],
   "source": [
    "npr.rand(10) * (b - a) + a"
   ]
  },
  {
   "cell_type": "code",
   "execution_count": 18,
   "metadata": {},
   "outputs": [
    {
     "data": {
      "text/plain": [
       "array([[9.04847183, 9.33344917, 9.70831167, 6.00090708, 6.4034285 ],\n",
       "       [5.15707616, 5.89473224, 7.99796538, 8.45668821, 8.01135925],\n",
       "       [5.73773492, 7.10603755, 5.21931754, 7.49529839, 8.22277499],\n",
       "       [7.33366618, 9.69683111, 7.17221738, 5.40414014, 9.52041791],\n",
       "       [5.34826985, 5.19429999, 5.85461083, 6.1347088 , 7.69525347]])"
      ]
     },
     "execution_count": 18,
     "metadata": {},
     "output_type": "execute_result"
    }
   ],
   "source": [
    "npr.rand(5,5) * (b - a) + a"
   ]
  },
  {
   "cell_type": "code",
   "execution_count": 19,
   "metadata": {},
   "outputs": [
    {
     "data": {
      "text/plain": [
       "array([0.26264469, 1.92160916, 0.63273987, 0.83609542, 0.90445946])"
      ]
     },
     "execution_count": 19,
     "metadata": {},
     "output_type": "execute_result"
    }
   ],
   "source": [
    "npr.rand(5) * 2"
   ]
  },
  {
   "cell_type": "code",
   "execution_count": 20,
   "metadata": {},
   "outputs": [
    {
     "data": {
      "text/plain": [
       "10"
      ]
     },
     "execution_count": 20,
     "metadata": {},
     "output_type": "execute_result"
    }
   ],
   "source": [
    "a"
   ]
  },
  {
   "cell_type": "code",
   "execution_count": 21,
   "metadata": {},
   "outputs": [
    {
     "data": {
      "text/plain": [
       "array([4.08112113, 3.24320143, 0.531987  , 0.35433134, 0.47383084])"
      ]
     },
     "execution_count": 21,
     "metadata": {},
     "output_type": "execute_result"
    }
   ],
   "source": [
    "npr.rand(5) * b"
   ]
  },
  {
   "cell_type": "code",
   "execution_count": 22,
   "metadata": {},
   "outputs": [
    {
     "data": {
      "text/plain": [
       "array([ 3.10726349, -0.4319813 , -1.71723298,  0.09446702, -1.31624159])"
      ]
     },
     "execution_count": 22,
     "metadata": {},
     "output_type": "execute_result"
    }
   ],
   "source": [
    "npr.randn(5)"
   ]
  },
  {
   "cell_type": "code",
   "execution_count": 23,
   "metadata": {},
   "outputs": [
    {
     "ename": "AttributeError",
     "evalue": "module 'matplotlib.pyplot' has no attribute 'line'",
     "output_type": "error",
     "traceback": [
      "\u001b[0;31m---------------------------------------------------------------------------\u001b[0m",
      "\u001b[0;31mAttributeError\u001b[0m                            Traceback (most recent call last)",
      "\u001b[0;32m<ipython-input-23-128136ff7961>\u001b[0m in \u001b[0;36m<module>\u001b[0;34m()\u001b[0m\n\u001b[0;32m----> 1\u001b[0;31m \u001b[0mplt\u001b[0m\u001b[0;34m.\u001b[0m\u001b[0mline\u001b[0m\u001b[0;34m(\u001b[0m\u001b[0mnpr\u001b[0m\u001b[0;34m.\u001b[0m\u001b[0mrandn\u001b[0m\u001b[0;34m(\u001b[0m\u001b[0;36m5\u001b[0m\u001b[0;34m)\u001b[0m\u001b[0;34m)\u001b[0m\u001b[0;34m\u001b[0m\u001b[0m\n\u001b[0m",
      "\u001b[0;31mAttributeError\u001b[0m: module 'matplotlib.pyplot' has no attribute 'line'"
     ]
    }
   ],
   "source": [
    "plt.line(npr.randn(5))"
   ]
  },
  {
   "cell_type": "code",
   "execution_count": 24,
   "metadata": {},
   "outputs": [],
   "source": [
    "sample_size = 500"
   ]
  },
  {
   "cell_type": "code",
   "execution_count": 25,
   "metadata": {},
   "outputs": [],
   "source": [
    "rn1 = npr.rand(sample_size,3)"
   ]
  },
  {
   "cell_type": "code",
   "execution_count": 26,
   "metadata": {},
   "outputs": [],
   "source": [
    "rn2 = npr.randint(0, 10, sample_size)"
   ]
  },
  {
   "cell_type": "code",
   "execution_count": 27,
   "metadata": {},
   "outputs": [],
   "source": [
    "rn3 = npr.sample(size=sample_size)"
   ]
  },
  {
   "cell_type": "code",
   "execution_count": 28,
   "metadata": {},
   "outputs": [],
   "source": [
    "a = [ 0, 25, 50, 75, 100]"
   ]
  },
  {
   "cell_type": "code",
   "execution_count": 29,
   "metadata": {},
   "outputs": [],
   "source": [
    "rn4 = npr.choice(a, size=sample_size)"
   ]
  },
  {
   "cell_type": "code",
   "execution_count": 30,
   "metadata": {},
   "outputs": [
    {
     "data": {
      "image/png": "[encoded data removed]",
      "text/plain": [
       "<Figure size 504x504 with 4 Axes>"
      ]
     },
     "metadata": {},
     "output_type": "display_data"
    }
   ],
   "source": [
    "fig,((ax1, ax2),(ax3, ax4)) = plt.subplots(nrows=2,ncols=2,\n",
    "                                          figsize=(7,7))"
   ]
  },
  {
   "cell_type": "code",
   "execution_count": 31,
   "metadata": {},
   "outputs": [
    {
     "data": {
      "text/plain": [
       "([array([24., 22., 14., 22., 20., 20., 20., 10., 23., 17., 19., 23., 15.,\n",
       "         19., 23., 24., 15., 23., 20., 27., 14., 21., 29., 17., 19.]),\n",
       "  array([39., 47., 37., 48., 51., 41., 28., 28., 37., 31., 33., 35., 36.,\n",
       "         38., 43., 42., 38., 37., 39., 49., 40., 36., 55., 43., 49.]),\n",
       "  array([62., 70., 56., 62., 71., 50., 44., 51., 58., 53., 57., 53., 61.,\n",
       "         52., 59., 64., 56., 65., 66., 69., 58., 54., 83., 56., 70.])],\n",
       " array([4.23542911e-04, 4.03921784e-02, 8.03608139e-02, 1.20329449e-01,\n",
       "        1.60298085e-01, 2.00266720e-01, 2.40235356e-01, 2.80203991e-01,\n",
       "        3.20172627e-01, 3.60141262e-01, 4.00109898e-01, 4.40078533e-01,\n",
       "        4.80047169e-01, 5.20015804e-01, 5.59984440e-01, 5.99953075e-01,\n",
       "        6.39921711e-01, 6.79890346e-01, 7.19858982e-01, 7.59827617e-01,\n",
       "        7.99796253e-01, 8.39764888e-01, 8.79733524e-01, 9.19702159e-01,\n",
       "        9.59670795e-01, 9.99639430e-01]),\n",
       " <a list of 3 Lists of Patches objects>)"
      ]
     },
     "execution_count": 31,
     "metadata": {},
     "output_type": "execute_result"
    }
   ],
   "source": [
    "ax1.hist(rn1,bins=25,stacked=True)"
   ]
  },
  {
   "cell_type": "code",
   "execution_count": 32,
   "metadata": {},
   "outputs": [
    {
     "data": {
      "image/png": "[encoded data removed]",
      "text/plain": [
       "<Figure size 504x504 with 4 Axes>"
      ]
     },
     "metadata": {},
     "output_type": "display_data"
    }
   ],
   "source": [
    "fig,((ax1, ax2),(ax3, ax4))=plt.subplots(nrows=2, ncols=2,figsize=(7,7))\n",
    "ax1.hist(rn1,bins=25,stacked=True)\n",
    "ax1.set_title('rand')\n",
    "ax1.set_ylabel('frequency')\n",
    "ax1.grid(True)\n",
    "\n",
    "ax2.hist(rn2,bins=25)\n",
    "ax2.set_title('randint')\n",
    "ax2.grid(True)\n",
    "\n",
    "ax3.hist(rn3,bins=25)\n",
    "ax3.set_title('sample')\n",
    "ax3.set_ylabel('frequency')\n",
    "\n",
    "ax4.hist(rn4,bins=25)\n",
    "ax4.set_title('choice')\n",
    "ax4.grid(True)"
   ]
  },
  {
   "cell_type": "code",
   "execution_count": 33,
   "metadata": {},
   "outputs": [
    {
     "data": {
      "text/plain": [
       "array([[0.59806583, 0.99194102, 0.99493741],\n",
       "       [0.26677306, 0.84211467, 0.56448538],\n",
       "       [0.71151403, 0.77147916, 0.60970667],\n",
       "       ...,\n",
       "       [0.61956667, 0.18897879, 0.69803981],\n",
       "       [0.19119716, 0.11388161, 0.08568598],\n",
       "       [0.89990625, 0.58509084, 0.98729108]])"
      ]
     },
     "execution_count": 33,
     "metadata": {},
     "output_type": "execute_result"
    }
   ],
   "source": [
    "rn1\n"
   ]
  },
  {
   "cell_type": "code",
   "execution_count": 34,
   "metadata": {},
   "outputs": [
    {
     "ename": "AttributeError",
     "evalue": "'numpy.ndarray' object has no attribute 'head'",
     "output_type": "error",
     "traceback": [
      "\u001b[0;31m---------------------------------------------------------------------------\u001b[0m",
      "\u001b[0;31mAttributeError\u001b[0m                            Traceback (most recent call last)",
      "\u001b[0;32m<ipython-input-34-789ec5bf4ee9>\u001b[0m in \u001b[0;36m<module>\u001b[0;34m()\u001b[0m\n\u001b[0;32m----> 1\u001b[0;31m \u001b[0mrn1\u001b[0m\u001b[0;34m.\u001b[0m\u001b[0mhead\u001b[0m\u001b[0;34m(\u001b[0m\u001b[0;36m3\u001b[0m\u001b[0;34m)\u001b[0m\u001b[0;34m\u001b[0m\u001b[0m\n\u001b[0m",
      "\u001b[0;31mAttributeError\u001b[0m: 'numpy.ndarray' object has no attribute 'head'"
     ]
    }
   ],
   "source": [
    "rn1.head(3)"
   ]
  },
  {
   "cell_type": "code",
   "execution_count": 35,
   "metadata": {},
   "outputs": [
    {
     "data": {
      "text/plain": [
       "array([[0.82201702, 0.31491733, 0.4798125 ],\n",
       "       [0.1974658 , 0.25699287, 0.86584126]])"
      ]
     },
     "execution_count": 35,
     "metadata": {},
     "output_type": "execute_result"
    }
   ],
   "source": [
    "npr.rand(2,3)"
   ]
  },
  {
   "cell_type": "code",
   "execution_count": 36,
   "metadata": {},
   "outputs": [
    {
     "data": {
      "text/plain": [
       "array([[0.51130519, 0.40275076, 0.06820573, 0.18338111, 0.80781113],\n",
       "       [0.70003195, 0.06406737, 0.7433808 , 0.20467011, 0.61938929]])"
      ]
     },
     "execution_count": 36,
     "metadata": {},
     "output_type": "execute_result"
    }
   ],
   "source": [
    "npr.rand(2,5)"
   ]
  },
  {
   "cell_type": "code",
   "execution_count": 37,
   "metadata": {},
   "outputs": [
    {
     "ename": "TypeError",
     "evalue": "unsupported operand type(s) for -: 'list' and 'int'",
     "output_type": "error",
     "traceback": [
      "\u001b[0;31m---------------------------------------------------------------------------\u001b[0m",
      "\u001b[0;31mTypeError\u001b[0m                                 Traceback (most recent call last)",
      "\u001b[0;32m<ipython-input-37-72380b4920df>\u001b[0m in \u001b[0;36m<module>\u001b[0;34m()\u001b[0m\n\u001b[0;32m----> 1\u001b[0;31m \u001b[0mnpr\u001b[0m\u001b[0;34m.\u001b[0m\u001b[0mrand\u001b[0m\u001b[0;34m(\u001b[0m\u001b[0;36m10\u001b[0m\u001b[0;34m)\u001b[0m \u001b[0;34m*\u001b[0m \u001b[0;34m(\u001b[0m\u001b[0ma\u001b[0m \u001b[0;34m-\u001b[0m \u001b[0mb\u001b[0m\u001b[0;34m)\u001b[0m \u001b[0;34m+\u001b[0m \u001b[0mb\u001b[0m\u001b[0;34m\u001b[0m\u001b[0m\n\u001b[0m",
      "\u001b[0;31mTypeError\u001b[0m: unsupported operand type(s) for -: 'list' and 'int'"
     ]
    }
   ],
   "source": [
    "npr.rand(10) * (a - b) + b"
   ]
  },
  {
   "cell_type": "code",
   "execution_count": 38,
   "metadata": {},
   "outputs": [
    {
     "data": {
      "text/plain": [
       "[0, 25, 50, 75, 100]"
      ]
     },
     "execution_count": 38,
     "metadata": {},
     "output_type": "execute_result"
    }
   ],
   "source": [
    "a\n"
   ]
  },
  {
   "cell_type": "code",
   "execution_count": 39,
   "metadata": {},
   "outputs": [],
   "source": [
    "a = 5"
   ]
  },
  {
   "cell_type": "code",
   "execution_count": 40,
   "metadata": {},
   "outputs": [],
   "source": [
    "b = 10"
   ]
  },
  {
   "cell_type": "code",
   "execution_count": 41,
   "metadata": {},
   "outputs": [
    {
     "data": {
      "text/plain": [
       "5"
      ]
     },
     "execution_count": 41,
     "metadata": {},
     "output_type": "execute_result"
    }
   ],
   "source": [
    "a"
   ]
  },
  {
   "cell_type": "code",
   "execution_count": 42,
   "metadata": {},
   "outputs": [
    {
     "data": {
      "text/plain": [
       "array([9.60344225, 7.82054479, 9.23473292, 5.9487477 , 8.27098632,\n",
       "       6.20655063, 9.12262151, 5.31757772, 6.30957251, 5.00799393])"
      ]
     },
     "execution_count": 42,
     "metadata": {},
     "output_type": "execute_result"
    }
   ],
   "source": [
    "npr.rand(10) *(b - a) + a"
   ]
  },
  {
   "cell_type": "code",
   "execution_count": 43,
   "metadata": {},
   "outputs": [
    {
     "data": {
      "text/plain": [
       "array([[5.29516864, 9.85801859, 6.11221915],\n",
       "       [6.44987007, 5.86314468, 7.25183135]])"
      ]
     },
     "execution_count": 43,
     "metadata": {},
     "output_type": "execute_result"
    }
   ],
   "source": [
    "npr.rand(2,3) * (b - a) + a"
   ]
  },
  {
   "cell_type": "code",
   "execution_count": 44,
   "metadata": {},
   "outputs": [],
   "source": [
    "sample_size = 500"
   ]
  },
  {
   "cell_type": "code",
   "execution_count": 45,
   "metadata": {},
   "outputs": [],
   "source": [
    "rn1 = npr.rand(sample_size,3)"
   ]
  },
  {
   "cell_type": "code",
   "execution_count": 46,
   "metadata": {},
   "outputs": [],
   "source": [
    "rn2 = npr.randint(1, 10, sample_size)"
   ]
  },
  {
   "cell_type": "code",
   "execution_count": 47,
   "metadata": {},
   "outputs": [
    {
     "data": {
      "text/plain": [
       "array([2, 3, 5, 3, 4, 9, 5, 3, 4, 1, 8, 4, 2, 5, 8, 2, 7, 9, 6, 6, 6, 3,\n",
       "       2, 7, 5, 4, 2, 1, 4, 6, 3, 5, 5, 3, 4, 1, 4, 5, 5, 1, 8, 4, 4, 2,\n",
       "       3, 7, 4, 2, 4, 3, 5, 4, 8, 9, 6, 9, 2, 3, 7, 6, 3, 7, 9, 1, 5, 3,\n",
       "       9, 5, 8, 4, 3, 9, 7, 5, 4, 3, 8, 4, 9, 5, 7, 9, 9, 1, 7, 2, 6, 8,\n",
       "       5, 3, 7, 3, 6, 4, 8, 9, 4, 4, 9, 9, 2, 8, 4, 7, 4, 1, 6, 7, 3, 5,\n",
       "       2, 8, 5, 1, 1, 2, 1, 6, 8, 1, 5, 4, 3, 4, 3, 9, 2, 3, 7, 8, 6, 6,\n",
       "       6, 6, 5, 9, 1, 6, 2, 4, 8, 3, 3, 1, 2, 2, 6, 8, 5, 2, 4, 3, 7, 9,\n",
       "       8, 7, 8, 1, 4, 6, 2, 2, 4, 1, 8, 1, 9, 2, 2, 4, 2, 7, 7, 6, 2, 4,\n",
       "       4, 9, 6, 1, 4, 7, 3, 5, 4, 3, 9, 8, 1, 2, 6, 4, 9, 5, 7, 8, 9, 6,\n",
       "       6, 8, 8, 6, 3, 6, 3, 3, 6, 7, 9, 8, 8, 6, 2, 5, 9, 1, 8, 4, 1, 6,\n",
       "       7, 6, 2, 2, 9, 1, 2, 1, 3, 3, 1, 8, 4, 5, 2, 1, 3, 7, 1, 8, 8, 3,\n",
       "       8, 2, 9, 7, 1, 2, 9, 6, 7, 7, 8, 6, 2, 9, 7, 5, 9, 3, 6, 6, 3, 7,\n",
       "       5, 6, 7, 4, 1, 6, 9, 7, 1, 4, 8, 4, 3, 7, 3, 9, 4, 9, 2, 8, 1, 8,\n",
       "       5, 5, 9, 8, 9, 2, 7, 7, 5, 2, 4, 7, 3, 6, 7, 8, 5, 3, 1, 2, 1, 3,\n",
       "       1, 1, 1, 7, 6, 3, 2, 9, 9, 3, 5, 3, 5, 7, 5, 5, 2, 3, 4, 9, 9, 1,\n",
       "       4, 4, 6, 8, 5, 8, 4, 4, 7, 5, 1, 8, 4, 4, 3, 8, 8, 8, 2, 7, 4, 7,\n",
       "       9, 1, 8, 4, 8, 7, 6, 4, 8, 2, 6, 5, 7, 6, 2, 1, 7, 6, 9, 8, 2, 7,\n",
       "       7, 4, 1, 8, 3, 6, 2, 5, 6, 5, 3, 1, 8, 4, 7, 7, 5, 8, 1, 8, 8, 8,\n",
       "       8, 9, 5, 5, 6, 1, 7, 1, 9, 9, 6, 9, 5, 5, 7, 2, 6, 7, 9, 4, 5, 7,\n",
       "       7, 7, 6, 3, 7, 2, 6, 1, 8, 9, 3, 7, 6, 2, 6, 7, 1, 7, 4, 8, 2, 4,\n",
       "       9, 2, 9, 8, 9, 1, 5, 1, 7, 2, 5, 1, 4, 9, 2, 3, 7, 2, 3, 9, 8, 4,\n",
       "       6, 6, 3, 8, 8, 7, 5, 3, 7, 1, 4, 3, 2, 2, 2, 8, 3, 7, 5, 4, 9, 9,\n",
       "       7, 8, 2, 8, 3, 2, 1, 1, 9, 6, 7, 3, 7, 6, 8, 8])"
      ]
     },
     "execution_count": 47,
     "metadata": {},
     "output_type": "execute_result"
    }
   ],
   "source": [
    "rn2"
   ]
  },
  {
   "cell_type": "code",
   "execution_count": 48,
   "metadata": {},
   "outputs": [],
   "source": [
    "rn3 = npr.sample(size = sample_size)"
   ]
  },
  {
   "cell_type": "code",
   "execution_count": 49,
   "metadata": {},
   "outputs": [
    {
     "data": {
      "text/plain": [
       "array([4.58250042e-01, 4.56218461e-01, 4.11677891e-01, 1.05670894e-02,\n",
       "       3.00311845e-01, 8.98448708e-01, 9.65828014e-01, 3.11401342e-01,\n",
       "       8.86601128e-01, 3.69549454e-02, 8.24244301e-01, 3.80037814e-01,\n",
       "       8.55700172e-01, 1.05387872e-01, 6.61842677e-01, 4.16688006e-01,\n",
       "       5.68324149e-01, 8.66529177e-01, 1.71570484e-01, 1.69995184e-01,\n",
       "       6.09522481e-02, 6.17462645e-01, 4.43583874e-01, 7.55007162e-01,\n",
       "       5.14487229e-01, 1.50494690e-01, 9.26502513e-01, 4.20910338e-01,\n",
       "       7.68187579e-01, 8.43213214e-01, 3.47025215e-01, 8.88081646e-01,\n",
       "       1.67993277e-01, 5.21331828e-01, 5.49063432e-03, 8.81448296e-01,\n",
       "       6.16550823e-01, 9.45829695e-01, 3.71904792e-01, 7.02077140e-02,\n",
       "       6.42917345e-01, 2.60295427e-01, 4.82726847e-01, 2.59643643e-01,\n",
       "       9.98676742e-01, 7.88249628e-01, 8.26014870e-01, 5.38989017e-01,\n",
       "       6.59326843e-01, 6.67985777e-01, 3.21596482e-01, 2.52214999e-01,\n",
       "       3.13643617e-01, 5.85049482e-01, 6.60656268e-01, 5.55499433e-01,\n",
       "       1.96211200e-01, 5.47272742e-01, 9.57486228e-01, 1.18260255e-01,\n",
       "       7.07275162e-02, 5.18981791e-01, 7.14970020e-01, 9.93214869e-02,\n",
       "       6.94245872e-01, 4.02227633e-01, 3.29832808e-02, 1.99793559e-01,\n",
       "       2.10317743e-01, 2.61198603e-01, 7.08727823e-01, 3.49421484e-01,\n",
       "       3.69470242e-01, 4.02290325e-01, 7.85195060e-02, 6.26716461e-01,\n",
       "       4.64826979e-01, 9.26376805e-01, 1.88134514e-01, 9.18219336e-01,\n",
       "       7.87069509e-02, 5.99509848e-02, 7.66187477e-01, 6.58284187e-01,\n",
       "       3.44186670e-01, 2.63051245e-01, 6.59870589e-01, 8.16360554e-01,\n",
       "       9.99036913e-01, 2.95525511e-02, 2.23495188e-01, 1.55081821e-01,\n",
       "       9.43003794e-01, 1.16736451e-02, 1.52006434e-02, 4.30338303e-01,\n",
       "       8.16052099e-01, 9.97657694e-01, 3.95483198e-02, 2.20005029e-01,\n",
       "       8.26099437e-01, 8.31074867e-01, 5.90247193e-01, 2.23245630e-01,\n",
       "       9.05504316e-01, 5.15675003e-01, 9.09773268e-01, 5.82618983e-01,\n",
       "       7.72906756e-01, 1.43595849e-01, 4.94390970e-01, 9.06794733e-01,\n",
       "       3.96000064e-01, 5.75670925e-01, 7.12185535e-01, 5.53384642e-01,\n",
       "       5.40697884e-01, 8.27808048e-01, 1.14895992e-01, 6.03688269e-01,\n",
       "       7.93440193e-01, 4.75236633e-02, 9.53386422e-02, 7.91261795e-01,\n",
       "       9.16244408e-01, 9.63082768e-01, 8.05824096e-01, 7.00287075e-03,\n",
       "       3.82231254e-01, 7.07923436e-01, 4.41545104e-01, 7.67152948e-01,\n",
       "       7.33917604e-01, 6.50874551e-01, 6.60292979e-01, 3.60936709e-01,\n",
       "       1.00395451e-01, 8.19022238e-01, 2.70905701e-01, 5.68222421e-01,\n",
       "       4.38090255e-01, 3.24149770e-01, 8.95507329e-01, 3.66679133e-01,\n",
       "       7.06622749e-01, 1.21439214e-02, 7.89624123e-01, 5.82939978e-01,\n",
       "       8.52195441e-01, 1.05255433e-01, 1.16486182e-01, 6.75225024e-01,\n",
       "       8.35503043e-01, 4.91083405e-01, 2.73839233e-01, 1.92455181e-02,\n",
       "       4.03056874e-02, 3.95560699e-01, 8.84070531e-01, 6.62954185e-01,\n",
       "       8.72827571e-01, 9.62121688e-01, 9.82048357e-01, 8.48697574e-01,\n",
       "       1.71386569e-01, 3.45113332e-01, 8.95357001e-01, 9.80523326e-01,\n",
       "       3.91611531e-01, 9.46752290e-01, 1.99361901e-01, 5.87144713e-02,\n",
       "       5.57549876e-01, 8.35149842e-01, 8.15815414e-01, 9.13940966e-01,\n",
       "       7.04556730e-01, 7.93911647e-02, 5.32541124e-01, 8.70216186e-01,\n",
       "       6.77312596e-01, 7.61898279e-01, 3.68356078e-01, 2.24787655e-01,\n",
       "       8.11650426e-01, 2.24056609e-01, 7.02351386e-01, 3.34760950e-01,\n",
       "       5.75134166e-01, 5.00130713e-01, 1.07587668e-01, 6.18678063e-01,\n",
       "       2.33931497e-02, 7.22961468e-01, 1.43066287e-01, 7.37995484e-01,\n",
       "       9.39509858e-01, 4.33165341e-01, 6.04455623e-01, 8.16494408e-01,\n",
       "       7.70258328e-01, 4.41342519e-01, 6.92048573e-01, 9.26070166e-05,\n",
       "       9.97960662e-01, 1.70404832e-01, 4.26749094e-01, 7.61976260e-01,\n",
       "       3.27592561e-01, 2.50241096e-01, 2.01593397e-01, 5.96924428e-01,\n",
       "       1.71665150e-02, 9.77623367e-01, 1.06132086e-03, 9.84634579e-01,\n",
       "       9.19314185e-01, 9.63597235e-01, 3.11272776e-01, 4.49787185e-01,\n",
       "       4.97475564e-03, 1.17020641e-01, 1.23760541e-01, 7.33925386e-01,\n",
       "       7.60698572e-01, 3.36714894e-01, 1.75059751e-01, 2.91790971e-01,\n",
       "       6.16661709e-01, 1.46069379e-02, 5.21616911e-01, 4.80043316e-01,\n",
       "       8.40204748e-01, 1.42070195e-01, 8.41887970e-01, 7.76184045e-01,\n",
       "       6.30522163e-01, 4.77711059e-02, 7.91359949e-01, 4.02258848e-01,\n",
       "       8.63683660e-01, 3.73187874e-01, 9.27865764e-01, 5.20744780e-01,\n",
       "       2.05094367e-01, 9.91148418e-01, 9.29302125e-01, 4.46279182e-01,\n",
       "       4.70162985e-01, 9.53114401e-01, 6.30736043e-02, 7.51246298e-01,\n",
       "       8.55612008e-01, 4.25891024e-01, 9.10918393e-01, 6.01742790e-01,\n",
       "       5.90873036e-01, 2.50465315e-01, 7.77678515e-01, 9.42854273e-01,\n",
       "       8.07291586e-01, 6.08954117e-01, 7.35578390e-01, 7.73948581e-01,\n",
       "       4.07844104e-01, 2.15624421e-01, 4.86600086e-01, 1.80644701e-01,\n",
       "       5.82239279e-01, 2.35516222e-01, 6.51136450e-01, 2.70348622e-01,\n",
       "       8.21889935e-01, 6.92054175e-01, 3.25482929e-01, 6.41809597e-01,\n",
       "       8.19566909e-01, 7.33073440e-01, 9.94208771e-01, 1.45009069e-01,\n",
       "       1.73742776e-01, 9.43536295e-01, 3.74006275e-02, 9.42819468e-02,\n",
       "       2.81489561e-01, 3.53322537e-01, 6.32913019e-01, 2.07565165e-01,\n",
       "       8.41423946e-01, 6.61123529e-01, 4.79658565e-01, 1.93976650e-01,\n",
       "       6.79814857e-01, 6.90976344e-01, 3.34079933e-01, 9.92867388e-01,\n",
       "       9.28701739e-02, 9.52191027e-02, 7.72469085e-01, 5.18190208e-02,\n",
       "       8.30706063e-01, 2.38673910e-01, 9.85175185e-01, 2.25360113e-02,\n",
       "       5.44369662e-01, 6.43115012e-01, 1.02414532e-01, 7.85390244e-02,\n",
       "       7.27270323e-01, 7.83266403e-01, 4.45650901e-01, 1.79509112e-03,\n",
       "       3.60650080e-01, 8.49927524e-01, 1.56365857e-01, 2.31195692e-01,\n",
       "       8.98588897e-01, 7.18565421e-01, 3.12090130e-01, 7.93079372e-01,\n",
       "       4.53406676e-01, 9.15421405e-01, 1.98529569e-01, 4.05843862e-01,\n",
       "       5.27661506e-01, 2.97337382e-01, 1.32014241e-01, 5.54597311e-01,\n",
       "       6.21485033e-02, 1.31126555e-01, 7.16402879e-02, 5.01139685e-01,\n",
       "       7.82725788e-01, 5.07827379e-01, 4.22696170e-01, 6.77396051e-01,\n",
       "       6.55664127e-02, 9.13768752e-01, 7.57793319e-01, 4.54120943e-02,\n",
       "       5.85437522e-01, 1.23009271e-01, 5.52280761e-01, 7.85666585e-02,\n",
       "       8.66479741e-01, 6.65249751e-01, 6.54810741e-01, 9.24057975e-01,\n",
       "       8.16611887e-01, 6.18364240e-01, 5.23226519e-01, 4.84549769e-01,\n",
       "       4.17237567e-01, 5.28285962e-01, 5.19408492e-01, 6.72014960e-01,\n",
       "       8.80101402e-01, 9.64570378e-01, 3.15538535e-01, 1.63985458e-01,\n",
       "       2.75369236e-01, 8.40143909e-01, 3.69925921e-01, 1.56294442e-01,\n",
       "       4.69522283e-01, 5.21861233e-01, 5.67528821e-01, 4.08005676e-01,\n",
       "       8.51845001e-01, 6.79463685e-01, 6.86133666e-01, 4.86602088e-01,\n",
       "       1.00622228e-01, 2.69095682e-01, 3.76923148e-01, 9.47545162e-01,\n",
       "       7.75459865e-01, 1.72170367e-01, 6.47502998e-01, 4.19223111e-03,\n",
       "       6.30796326e-01, 8.74753665e-01, 8.02287711e-01, 8.60850226e-01,\n",
       "       1.61233005e-02, 1.80785639e-01, 5.47442967e-01, 9.21487287e-01,\n",
       "       7.67307842e-01, 7.17381486e-01, 8.12095262e-01, 6.10778487e-01,\n",
       "       2.47147562e-01, 5.67337678e-02, 2.04938922e-01, 5.31364733e-01,\n",
       "       4.20887205e-01, 7.18571730e-01, 3.53224533e-01, 8.70711871e-01,\n",
       "       3.55142294e-01, 6.34338088e-01, 4.50808782e-01, 9.06118087e-01,\n",
       "       2.40898489e-01, 7.95091071e-01, 1.70622477e-01, 7.87838394e-01,\n",
       "       2.90852193e-01, 4.47037461e-02, 7.83497282e-01, 3.43221722e-01,\n",
       "       7.75959981e-01, 5.67955219e-01, 1.79245181e-01, 2.10108543e-01,\n",
       "       6.83982226e-01, 7.75500194e-01, 8.68040011e-01, 7.55683534e-01,\n",
       "       4.55714471e-01, 7.32823294e-01, 4.77330160e-01, 4.66954133e-01,\n",
       "       4.64882288e-01, 8.80407255e-01, 3.96318476e-02, 6.98335282e-01,\n",
       "       1.31237686e-01, 3.52379465e-01, 1.03104630e-01, 2.13573817e-01,\n",
       "       5.73363377e-01, 3.22252926e-02, 1.59406570e-01, 5.44394043e-01,\n",
       "       3.96926995e-01, 1.97394836e-01, 2.84989419e-01, 5.09819723e-01,\n",
       "       6.53251239e-01, 8.22517294e-01, 9.90147767e-02, 5.15411398e-01,\n",
       "       1.29529107e-02, 2.66512645e-01, 3.29295381e-01, 7.25810485e-02,\n",
       "       9.13344324e-01, 8.15017079e-01, 7.76308438e-02, 2.73369731e-02,\n",
       "       7.27839463e-01, 8.73117357e-01, 3.43961376e-01, 3.57957916e-01,\n",
       "       7.20983161e-01, 5.11223542e-01, 6.19418010e-01, 6.70290478e-01,\n",
       "       8.83341748e-01, 4.06903322e-01, 9.60940037e-01, 3.54845522e-01,\n",
       "       9.31967438e-01, 8.54557509e-01, 5.86759777e-01, 5.67758080e-01,\n",
       "       5.96783252e-01, 1.24091413e-01, 8.89227297e-01, 8.01229931e-01,\n",
       "       5.60831498e-01, 3.67160347e-01, 1.11195355e-01, 9.23789552e-01,\n",
       "       8.53546771e-01, 2.05858564e-01, 1.18993932e-01, 4.57050551e-01,\n",
       "       1.62059991e-01, 7.50371380e-01, 6.19697572e-01, 3.77009319e-01,\n",
       "       1.68960040e-01, 1.18593975e-01, 3.93464929e-01, 2.32766392e-01,\n",
       "       9.03947517e-01, 9.87161784e-01, 5.07280136e-01, 2.38916922e-01,\n",
       "       2.92837703e-01, 9.08409996e-01, 8.22095514e-01, 4.87072232e-01,\n",
       "       8.23741516e-01, 2.04410137e-01, 5.37982722e-01, 4.98259623e-01])"
      ]
     },
     "execution_count": 49,
     "metadata": {},
     "output_type": "execute_result"
    }
   ],
   "source": [
    "rn3"
   ]
  },
  {
   "cell_type": "code",
   "execution_count": 50,
   "metadata": {},
   "outputs": [],
   "source": [
    "rn4 = npr.choice(a, size = sample_size)"
   ]
  },
  {
   "cell_type": "code",
   "execution_count": 51,
   "metadata": {},
   "outputs": [
    {
     "data": {
      "text/plain": [
       "array([0, 0, 2, 1, 2, 0, 1, 2, 3, 4, 3, 1, 2, 4, 0, 3, 0, 2, 2, 0, 3, 3,\n",
       "       2, 2, 4, 0, 3, 2, 1, 0, 1, 1, 0, 3, 4, 2, 3, 4, 2, 3, 2, 1, 1, 0,\n",
       "       1, 1, 0, 3, 2, 4, 3, 2, 2, 2, 1, 2, 1, 0, 3, 2, 4, 1, 3, 4, 1, 4,\n",
       "       3, 1, 4, 1, 4, 2, 3, 1, 0, 0, 4, 0, 0, 4, 3, 0, 3, 4, 0, 4, 2, 2,\n",
       "       1, 2, 4, 2, 3, 3, 1, 3, 0, 3, 1, 1, 1, 1, 3, 2, 2, 2, 0, 0, 2, 0,\n",
       "       2, 4, 3, 0, 2, 3, 4, 2, 1, 4, 4, 0, 4, 4, 2, 4, 4, 1, 1, 1, 3, 1,\n",
       "       0, 2, 3, 2, 2, 3, 0, 2, 4, 0, 2, 3, 1, 0, 2, 0, 0, 3, 4, 3, 0, 4,\n",
       "       1, 4, 3, 2, 1, 2, 1, 1, 3, 4, 0, 1, 0, 2, 0, 0, 1, 4, 0, 1, 3, 1,\n",
       "       2, 3, 3, 2, 1, 2, 4, 3, 2, 2, 1, 1, 0, 0, 4, 4, 4, 4, 0, 3, 1, 0,\n",
       "       0, 3, 0, 3, 2, 4, 3, 4, 2, 3, 2, 4, 1, 2, 3, 4, 2, 3, 3, 4, 4, 4,\n",
       "       3, 2, 1, 1, 3, 2, 0, 4, 2, 4, 3, 1, 1, 2, 2, 0, 1, 4, 2, 2, 1, 2,\n",
       "       3, 3, 2, 0, 3, 3, 2, 3, 2, 4, 2, 1, 4, 4, 4, 2, 0, 2, 2, 0, 4, 0,\n",
       "       4, 1, 0, 1, 4, 0, 2, 0, 1, 2, 0, 3, 1, 4, 0, 3, 3, 4, 4, 1, 4, 0,\n",
       "       1, 1, 2, 3, 4, 2, 2, 3, 2, 1, 3, 2, 3, 4, 4, 1, 2, 2, 2, 2, 2, 0,\n",
       "       3, 4, 4, 2, 2, 3, 2, 3, 1, 1, 0, 4, 1, 2, 4, 0, 2, 1, 4, 3, 2, 3,\n",
       "       0, 0, 3, 3, 3, 3, 1, 3, 3, 0, 0, 1, 3, 0, 4, 2, 0, 4, 1, 1, 0, 0,\n",
       "       2, 2, 4, 4, 0, 2, 0, 1, 0, 1, 2, 4, 4, 1, 4, 4, 3, 4, 3, 1, 1, 2,\n",
       "       0, 2, 1, 4, 0, 3, 4, 3, 3, 1, 4, 1, 2, 1, 4, 2, 3, 3, 1, 2, 2, 3,\n",
       "       2, 1, 2, 4, 2, 0, 1, 3, 4, 2, 3, 0, 0, 0, 0, 0, 2, 1, 0, 0, 2, 4,\n",
       "       0, 1, 3, 3, 3, 3, 4, 0, 1, 3, 2, 0, 3, 2, 1, 3, 3, 3, 2, 0, 1, 1,\n",
       "       0, 3, 4, 4, 0, 3, 1, 0, 2, 0, 4, 0, 2, 3, 2, 3, 0, 4, 3, 3, 1, 2,\n",
       "       4, 3, 3, 2, 1, 0, 1, 3, 2, 0, 1, 0, 1, 1, 0, 4, 3, 0, 2, 1, 3, 4,\n",
       "       1, 0, 3, 2, 3, 1, 1, 3, 0, 2, 1, 0, 2, 1, 0, 0])"
      ]
     },
     "execution_count": 51,
     "metadata": {},
     "output_type": "execute_result"
    }
   ],
   "source": [
    "rn4"
   ]
  },
  {
   "cell_type": "code",
   "execution_count": 52,
   "metadata": {},
   "outputs": [
    {
     "data": {
      "text/plain": [
       "5"
      ]
     },
     "execution_count": 52,
     "metadata": {},
     "output_type": "execute_result"
    }
   ],
   "source": [
    "a\n"
   ]
  },
  {
   "cell_type": "code",
   "execution_count": 53,
   "metadata": {},
   "outputs": [
    {
     "data": {
      "text/plain": [
       "10"
      ]
     },
     "execution_count": 53,
     "metadata": {},
     "output_type": "execute_result"
    }
   ],
   "source": [
    "b"
   ]
  },
  {
   "cell_type": "code",
   "execution_count": 54,
   "metadata": {},
   "outputs": [
    {
     "data": {
      "text/plain": [
       "array([6, 3, 2, 1, 6, 0, 0, 4, 9, 3, 2, 8, 2, 9, 5, 5, 4, 1, 8, 4, 7, 2,\n",
       "       9, 6, 8, 4, 9, 7, 0, 2, 1, 0, 0, 4, 8, 2, 6, 0, 2, 1, 6, 0, 9, 9,\n",
       "       1, 8, 7, 5, 7, 9, 2, 9, 9, 8, 9, 7, 1, 4, 6, 1, 8, 9, 0, 1, 1, 9,\n",
       "       6, 9, 6, 0, 4, 3, 1, 8, 0, 2, 1, 1, 7, 4, 1, 7, 1, 9, 5, 0, 1, 3,\n",
       "       9, 7, 2, 3, 3, 2, 4, 9, 8, 1, 8, 4, 1, 9, 5, 3, 1, 0, 5, 5, 4, 5,\n",
       "       9, 6, 2, 1, 4, 6, 1, 7, 2, 2, 3, 0, 3, 0, 0, 5, 6, 0, 0, 0, 4, 2,\n",
       "       1, 6, 8, 9, 6, 7, 0, 8, 8, 2, 3, 8, 2, 2, 7, 5, 1, 2, 6, 2, 7, 2,\n",
       "       1, 0, 0, 5, 3, 1, 9, 3, 2, 5, 0, 6, 2, 1, 0, 7, 0, 3, 4, 5, 6, 7,\n",
       "       0, 2, 0, 6, 0, 9, 6, 6, 6, 4, 6, 8, 9, 2, 9, 9, 7, 5, 6, 8, 9, 8,\n",
       "       0, 7, 9, 6, 2, 8, 1, 6, 7, 6, 7, 4, 8, 7, 5, 3, 0, 3, 3, 3, 1, 7,\n",
       "       7, 5, 9, 2, 1, 8, 6, 4, 6, 4, 1, 8, 3, 8, 2, 2, 7, 4, 7, 2, 7, 1,\n",
       "       6, 8, 7, 0, 8, 8, 8, 0, 8, 0, 3, 9, 2, 0, 4, 2, 0, 6, 4, 8, 2, 4,\n",
       "       8, 7, 6, 2, 9, 0, 0, 3, 0, 4, 1, 8, 0, 5, 5, 0, 9, 4, 6, 5, 9, 1,\n",
       "       0, 7, 9, 0, 6, 3, 4, 3, 4, 3, 4, 0, 6, 5, 8, 3, 0, 3, 1, 2, 6, 0,\n",
       "       6, 7, 7, 4, 6, 2, 1, 0, 0, 1, 2, 9, 8, 1, 5, 6, 5, 6, 3, 4, 1, 9,\n",
       "       9, 8, 1, 1, 3, 5, 2, 1, 4, 1, 3, 4, 4, 8, 2, 3, 8, 1, 2, 4, 7, 3,\n",
       "       7, 8, 4, 4, 2, 9, 2, 0, 2, 3, 0, 5, 5, 8, 2, 6, 2, 4, 3, 3, 0, 8,\n",
       "       4, 8, 3, 2, 1, 2, 9, 0, 7, 6, 1, 5, 8, 3, 1, 0, 7, 4, 6, 2, 8, 2,\n",
       "       6, 7, 7, 1, 4, 1, 4, 0, 9, 6, 4, 9, 7, 9, 6, 0, 0, 5, 1, 4, 7, 8,\n",
       "       7, 3, 4, 5, 1, 6, 2, 4, 7, 3, 1, 5, 2, 8, 8, 7, 2, 6, 0, 0, 5, 1,\n",
       "       8, 5, 5, 0, 9, 9, 5, 3, 2, 5, 7, 2, 0, 7, 5, 1, 7, 4, 1, 9, 8, 0,\n",
       "       2, 9, 4, 6, 6, 8, 7, 4, 1, 8, 3, 6, 9, 9, 4, 7, 9, 5, 3, 6, 7, 5,\n",
       "       1, 9, 6, 2, 8, 2, 3, 2, 9, 0, 8, 2, 8, 9, 8, 7])"
      ]
     },
     "execution_count": 54,
     "metadata": {},
     "output_type": "execute_result"
    }
   ],
   "source": [
    "npr.choice(b,size=sample_size)"
   ]
  },
  {
   "cell_type": "code",
   "execution_count": 55,
   "metadata": {},
   "outputs": [],
   "source": [
    "sample_size = 500\n"
   ]
  },
  {
   "cell_type": "code",
   "execution_count": 56,
   "metadata": {},
   "outputs": [],
   "source": [
    "rn1 = npr.standard_normal(sample_size)"
   ]
  },
  {
   "cell_type": "code",
   "execution_count": 57,
   "metadata": {},
   "outputs": [
    {
     "data": {
      "text/plain": [
       "array([ 0.43979237, -1.21330801,  1.88826943,  2.36827379,  0.51324562,\n",
       "        0.00608565, -1.22681752,  0.11504271,  0.24788451, -0.7973765 ,\n",
       "       -1.116785  , -1.25143827,  0.67803962,  1.70753972,  1.01074676,\n",
       "        0.87520876, -1.19939245,  1.51601697,  0.66935251,  1.69234167,\n",
       "       -0.89252632, -0.36570615, -0.89606371,  1.08396772,  0.2837447 ,\n",
       "       -1.21776833,  0.76432468,  1.57619972,  0.58195304, -1.9563847 ,\n",
       "       -0.10434551, -2.56565845, -0.39677887,  1.36663517,  0.1557255 ,\n",
       "        0.53250018,  1.5020336 ,  1.05569774,  0.22863612, -1.82819176,\n",
       "        0.89440078, -1.25607196, -1.38668475,  0.05345356,  0.15575563,\n",
       "       -1.17801265,  0.6491652 , -0.49002141, -2.04635638,  0.39270221,\n",
       "       -0.6634832 , -0.58461243, -1.5346658 ,  0.89004605,  0.81625752,\n",
       "       -0.21403056, -0.81592868, -0.62509955,  0.51138351, -0.43928244,\n",
       "       -1.95846944,  2.13952646, -1.35564677, -2.07306055, -3.29007926,\n",
       "       -0.07058605,  0.44292579, -0.18308686, -0.3848594 , -0.79908533,\n",
       "        0.38819676,  0.90882332,  1.18069823,  1.99251989,  0.21040885,\n",
       "       -0.75102756, -0.50556506,  0.7318942 ,  0.20531738,  0.63540708,\n",
       "       -0.74724729,  0.73794406, -0.62603558,  0.01506582, -0.43718403,\n",
       "        0.14705724, -1.15829943, -0.2286579 ,  0.22782052,  2.44959862,\n",
       "        1.01330942,  1.12320839, -0.32131047,  1.09817824, -1.13768139,\n",
       "        0.42281123, -0.54756199, -1.36903425, -0.01717854, -1.37972947,\n",
       "        1.12246315,  0.54861887,  0.99213591, -0.95552964,  1.32295808,\n",
       "       -1.43413385,  0.17495789, -0.05830092, -0.77207113,  1.74401242,\n",
       "       -1.84175651, -2.85090402, -0.09161002,  1.91189674, -0.93706501,\n",
       "        0.55438272,  1.67850364, -2.76155938, -2.14271412, -0.36460165,\n",
       "        0.23531259,  0.64522031,  0.43869499,  1.10876703,  1.53071734,\n",
       "       -0.62184311,  2.11925817,  0.74786789, -1.73458575,  0.04243442,\n",
       "        0.13536531, -0.20311604, -2.14847115,  1.0595797 , -0.32360908,\n",
       "        0.35752739, -0.7898706 , -0.42120628, -0.13285454, -0.98575041,\n",
       "        0.38879701, -0.59993035, -0.81279099, -1.8158936 ,  1.35075569,\n",
       "        0.88887387,  0.45318995, -1.0053163 , -0.52332448,  1.09964548,\n",
       "       -0.75661489,  0.15072303,  0.88286151,  0.9947031 ,  0.14406963,\n",
       "        0.50961483, -0.01556682, -1.00331061, -0.2577368 ,  1.04069504,\n",
       "       -1.65094201,  0.92923749,  0.45325931, -0.11730001, -0.66195054,\n",
       "        1.02396857, -0.63192947, -2.08898678,  0.14711456, -0.44404679,\n",
       "       -1.01163984,  0.24684687,  1.07432303, -1.50325758, -0.168101  ,\n",
       "        0.89371201, -1.02146746,  1.48425242, -0.24486907, -1.17407272,\n",
       "       -0.21449179,  1.20810004, -0.02945172, -0.4963989 ,  0.53881995,\n",
       "       -0.16034031,  0.65368081,  1.03595452,  0.40304798, -0.384166  ,\n",
       "       -0.11095555,  0.23671777,  1.56566353,  1.71684619,  1.21773884,\n",
       "        0.9838058 ,  1.12138383, -0.21241491, -0.18764371, -0.06487753,\n",
       "        0.57172432, -0.01223288,  0.60385757,  0.48622175, -1.24915475,\n",
       "        0.9213243 ,  0.70347249,  0.84693266, -0.58891299, -0.14709417,\n",
       "       -0.08944248,  1.34725718, -0.95459969,  2.41475357, -0.09035389,\n",
       "        0.91256904, -2.18604549,  0.21739698,  0.27443412, -0.10412401,\n",
       "       -1.96144651, -1.50302268, -1.12551383, -0.09512579, -0.56793238,\n",
       "        0.0959788 , -1.97769897,  0.64346155, -0.78328138, -0.00936983,\n",
       "        0.42860716, -1.1510166 , -2.65672362, -0.68772856, -0.14462797,\n",
       "       -0.87115442,  1.04534371, -0.56210477,  1.99827823,  0.48828191,\n",
       "       -0.20194668,  0.19863228,  1.12864361, -0.69086144, -0.65967089,\n",
       "        1.04253111,  1.7752917 ,  0.03623955, -1.69199713,  1.66399514,\n",
       "       -0.23269353,  0.81909609,  0.78048486, -0.38014214,  1.96644171,\n",
       "        0.99140531, -0.09763782,  0.87052938, -1.41070973,  0.45893861,\n",
       "       -0.30509944, -1.03819882, -1.278752  ,  0.06946413,  0.42439356,\n",
       "        1.20838786, -0.07514276, -0.0375806 , -0.91328847,  0.62845116,\n",
       "        0.28190281,  0.44950577,  0.17089757, -0.12220078,  0.2749612 ,\n",
       "        0.78147094, -1.35994974, -0.33933142, -0.49021824, -0.35723206,\n",
       "        0.09486875, -0.1448355 ,  0.38763882,  0.88303949,  0.6216585 ,\n",
       "        1.02905033, -0.54931986, -1.71884199,  1.12832421,  0.21511122,\n",
       "       -0.06807565,  0.89850132,  1.767098  , -0.29008953, -0.93403112,\n",
       "       -0.21330319, -1.68693515, -1.49198993,  0.56808561, -0.58009189,\n",
       "        0.07796129,  0.38698294,  0.34387732,  2.17733305,  0.63058156,\n",
       "        1.70887017, -1.40385113, -1.98902463,  2.17748991, -0.60465658,\n",
       "       -1.02025698,  1.08364567,  0.31880923, -0.02231416, -1.60193307,\n",
       "        0.49537024, -0.72315609, -0.06588779,  0.29714834,  0.18383748,\n",
       "       -0.79988807,  0.49944371, -0.32716024, -0.81976283,  2.35604813,\n",
       "        1.28233195, -0.15079268, -1.74424565, -0.16366476, -0.61386043,\n",
       "       -0.55343015, -0.10621037,  0.69106628, -0.22767577, -0.30518073,\n",
       "        1.29768455,  1.97861564, -0.85491525, -1.77852626, -1.61111768,\n",
       "        0.1338961 , -0.80824866, -1.44477275, -1.0688719 ,  0.37899594,\n",
       "        0.64768335,  1.38059983, -1.29536491, -2.79829961, -0.89790231,\n",
       "        0.67248514,  1.36886632,  0.39575863,  0.69753728,  1.15483672,\n",
       "        0.20804652, -1.25122033,  0.8308595 ,  0.53786553, -3.29870803,\n",
       "        0.89501928, -0.88892343,  0.24376609, -0.78502093, -2.14636661,\n",
       "        0.99683513,  0.64601626, -0.03540608,  0.05677703,  0.35355311,\n",
       "       -1.50491607,  0.2183233 ,  0.51842081,  0.04619276, -2.28494319,\n",
       "       -0.3137129 ,  1.12693392, -0.7171785 ,  0.57064474,  0.16037638,\n",
       "       -1.42468323, -0.42101688, -0.50819238, -0.03531788, -0.26135637,\n",
       "       -0.62212109, -1.2572864 , -0.25859626,  1.5135814 ,  1.53766454,\n",
       "       -1.416601  , -0.32909614, -0.2917    , -0.6335321 , -0.75850596,\n",
       "       -0.84745485, -0.98806534, -0.92168053, -0.3309286 ,  0.46182778,\n",
       "       -0.04290853,  2.78965058,  0.1468761 , -0.26829352,  0.27122571,\n",
       "        1.50100048, -0.42564545,  0.59880804, -0.57902325, -0.51217619,\n",
       "        0.45792779,  1.15980691, -0.13330683,  1.06558486, -1.25157056,\n",
       "        1.09416517, -1.33484134,  0.32265522, -0.45734821, -1.05747966,\n",
       "       -1.40989006, -1.27019339,  0.53766504, -1.32646428, -1.84526806,\n",
       "       -0.57372077, -0.57780594, -1.07747596, -2.33343765, -0.17020687,\n",
       "        0.70228107,  0.58506434, -0.46352924,  1.41192789, -0.17765334,\n",
       "        1.34921389, -0.48770849,  0.6304372 , -0.89252096, -0.89533213,\n",
       "        0.16392364,  1.70261914,  0.18233837,  1.10832811,  0.09608055,\n",
       "       -2.17658081,  0.83319806, -0.11236194,  0.83439384,  0.41244761,\n",
       "       -0.48435189,  0.46979873,  0.9479705 ,  2.02563492,  0.92761134,\n",
       "       -0.21314996,  0.65366393, -0.19356324, -1.40893145,  0.32069913,\n",
       "        1.71017302, -0.59534867, -1.71089407,  0.63517391,  0.32268313,\n",
       "       -0.49842682, -0.41149406,  0.80294046,  1.15431764,  0.0318658 ,\n",
       "       -0.09696976, -0.01420524,  1.53170217, -0.42876961,  0.31405383,\n",
       "       -0.72984297,  0.97893971, -1.66607728, -1.5829518 ,  0.42642247,\n",
       "       -0.1078634 ,  0.6209821 , -0.08198732,  1.32066446,  0.19693617,\n",
       "       -0.70075168, -0.06407821,  0.30890081, -0.22892331, -0.67864754,\n",
       "       -1.68408939, -0.45845974, -1.67805424,  0.00479801,  0.30513834,\n",
       "        2.84164602, -0.18763691, -0.11909096,  0.34696745,  0.53643843])"
      ]
     },
     "execution_count": 57,
     "metadata": {},
     "output_type": "execute_result"
    }
   ],
   "source": [
    "rn1"
   ]
  },
  {
   "cell_type": "code",
   "execution_count": 58,
   "metadata": {},
   "outputs": [],
   "source": [
    "rn2 = npr.normal(100,20,sample_size)"
   ]
  },
  {
   "cell_type": "code",
   "execution_count": 59,
   "metadata": {},
   "outputs": [],
   "source": [
    "rn3 = npr.chisquare(df=0.5, size = sample_size)"
   ]
  },
  {
   "cell_type": "code",
   "execution_count": 60,
   "metadata": {},
   "outputs": [],
   "source": [
    "rn4 = npr.poisson(lam=1.0,size=sample_size)"
   ]
  },
  {
   "cell_type": "code",
   "execution_count": 61,
   "metadata": {},
   "outputs": [
    {
     "data": {
      "image/png": "[encoded data removed]",
      "text/plain": [
       "<Figure size 504x504 with 4 Axes>"
      ]
     },
     "metadata": {},
     "output_type": "display_data"
    }
   ],
   "source": [
    "fig,((ax1, ax2),(ax3, ax4)) = plt.subplots(nrows=2,ncols=2,\n",
    "                                          figsize=(7,7))\n",
    "ax1.hist(rn1, bins=100)\n",
    "ax1.set_title('standard normal')\n",
    "ax1.grid(True)\n",
    "\n",
    "ax2.hist(rn2, bins=25)\n",
    "ax2.set_title('normal')\n",
    "ax2.grid(True)"
   ]
  },
  {
   "cell_type": "code",
   "execution_count": null,
   "metadata": {},
   "outputs": [],
   "source": []
  }
 ],
 "metadata": {
  "kernelspec": {
   "display_name": "Python 3",
   "language": "python",
   "name": "python3"
  },
  "language_info": {
   "codemirror_mode": {
    "name": "ipython",
    "version": 3
   },
   "file_extension": ".py",
   "mimetype": "text/x-python",
   "name": "python",
   "nbconvert_exporter": "python",
   "pygments_lexer": "ipython3",
   "version": "3.6.5"
  }
 },
 "nbformat": 4,
 "nbformat_minor": 2
}
